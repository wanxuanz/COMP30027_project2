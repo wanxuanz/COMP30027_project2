{
 "cells": [
  {
   "cell_type": "code",
   "execution_count": 1,
   "metadata": {},
   "outputs": [],
   "source": [
    "import pandas as pd\n",
    "import numpy as np\n",
    "import matplotlib.pyplot as plt"
   ]
  },
  {
   "cell_type": "code",
   "execution_count": 2,
   "metadata": {},
   "outputs": [
    {
     "data": {
      "text/html": [
       "<div>\n",
       "<style scoped>\n",
       "    .dataframe tbody tr th:only-of-type {\n",
       "        vertical-align: middle;\n",
       "    }\n",
       "\n",
       "    .dataframe tbody tr th {\n",
       "        vertical-align: top;\n",
       "    }\n",
       "\n",
       "    .dataframe thead th {\n",
       "        text-align: right;\n",
       "    }\n",
       "</style>\n",
       "<table border=\"1\" class=\"dataframe\">\n",
       "  <thead>\n",
       "    <tr style=\"text-align: right;\">\n",
       "      <th></th>\n",
       "      <th>name</th>\n",
       "      <th>n_steps</th>\n",
       "      <th>n_ingredients</th>\n",
       "      <th>steps</th>\n",
       "      <th>ingredients</th>\n",
       "      <th>duration_label</th>\n",
       "    </tr>\n",
       "  </thead>\n",
       "  <tbody>\n",
       "    <tr>\n",
       "      <th>0</th>\n",
       "      <td>wi gal s chicken rice stove top dish made heal...</td>\n",
       "      <td>6</td>\n",
       "      <td>12</td>\n",
       "      <td>['in saucepan , melt margarine and combine wit...</td>\n",
       "      <td>['margarine', 'olive oil', 'celery', 'onion', ...</td>\n",
       "      <td>2.0</td>\n",
       "    </tr>\n",
       "    <tr>\n",
       "      <th>1</th>\n",
       "      <td>irish pin oats</td>\n",
       "      <td>9</td>\n",
       "      <td>5</td>\n",
       "      <td>['melt 1 tbs butter in a small saucepan over m...</td>\n",
       "      <td>['butter', 'pinhead oats', 'water', 'half-and-...</td>\n",
       "      <td>2.0</td>\n",
       "    </tr>\n",
       "    <tr>\n",
       "      <th>2</th>\n",
       "      <td>cheesy beef   n biscuit casserole</td>\n",
       "      <td>15</td>\n",
       "      <td>10</td>\n",
       "      <td>['brown ground beef , onion and green pepper',...</td>\n",
       "      <td>['ground beef', 'onion', 'green pepper', 'toma...</td>\n",
       "      <td>2.0</td>\n",
       "    </tr>\n",
       "    <tr>\n",
       "      <th>3</th>\n",
       "      <td>lemonade chicken  oamc</td>\n",
       "      <td>10</td>\n",
       "      <td>8</td>\n",
       "      <td>['brown chicken in oil', 'combine all ingredie...</td>\n",
       "      <td>['boneless skinless chicken', 'frozen lemonade...</td>\n",
       "      <td>2.0</td>\n",
       "    </tr>\n",
       "    <tr>\n",
       "      <th>4</th>\n",
       "      <td>graham and peanut butter bon bons</td>\n",
       "      <td>6</td>\n",
       "      <td>5</td>\n",
       "      <td>['set almond bark aside', 'mix remaining ingre...</td>\n",
       "      <td>['graham cracker crumbs', 'crunchy peanut butt...</td>\n",
       "      <td>2.0</td>\n",
       "    </tr>\n",
       "  </tbody>\n",
       "</table>\n",
       "</div>"
      ],
      "text/plain": [
       "                                                name  n_steps  n_ingredients  \\\n",
       "0  wi gal s chicken rice stove top dish made heal...        6             12   \n",
       "1                                     irish pin oats        9              5   \n",
       "2                  cheesy beef   n biscuit casserole       15             10   \n",
       "3                             lemonade chicken  oamc       10              8   \n",
       "4                  graham and peanut butter bon bons        6              5   \n",
       "\n",
       "                                               steps  \\\n",
       "0  ['in saucepan , melt margarine and combine wit...   \n",
       "1  ['melt 1 tbs butter in a small saucepan over m...   \n",
       "2  ['brown ground beef , onion and green pepper',...   \n",
       "3  ['brown chicken in oil', 'combine all ingredie...   \n",
       "4  ['set almond bark aside', 'mix remaining ingre...   \n",
       "\n",
       "                                         ingredients  duration_label  \n",
       "0  ['margarine', 'olive oil', 'celery', 'onion', ...             2.0  \n",
       "1  ['butter', 'pinhead oats', 'water', 'half-and-...             2.0  \n",
       "2  ['ground beef', 'onion', 'green pepper', 'toma...             2.0  \n",
       "3  ['boneless skinless chicken', 'frozen lemonade...             2.0  \n",
       "4  ['graham cracker crumbs', 'crunchy peanut butt...             2.0  "
      ]
     },
     "execution_count": 2,
     "metadata": {},
     "output_type": "execute_result"
    }
   ],
   "source": [
    "# read in the traning data\n",
    "train_csv = pd.read_csv('recipe_train.csv')\n",
    "train_csv.head()"
   ]
  },
  {
   "cell_type": "code",
   "execution_count": 3,
   "metadata": {},
   "outputs": [],
   "source": [
    "# preprocess the texts\n",
    "train_csv['steps'] = train_csv['steps'].apply(eval)\n",
    "train_csv['ingredients'] = train_csv['ingredients'].apply(eval)\n",
    "train_csv['steps'] = train_csv['steps'].apply(' '.join)\n",
    "train_csv['ingredients'] = train_csv['ingredients'].apply(' '.join)"
   ]
  },
  {
   "cell_type": "code",
   "execution_count": 4,
   "metadata": {},
   "outputs": [
    {
     "data": {
      "text/plain": [
       "2.0    20246\n",
       "1.0    17705\n",
       "3.0     2049\n",
       "Name: duration_label, dtype: int64"
      ]
     },
     "execution_count": 4,
     "metadata": {},
     "output_type": "execute_result"
    }
   ],
   "source": [
    "train_csv['duration_label'].value_counts()"
   ]
  },
  {
   "cell_type": "code",
   "execution_count": 5,
   "metadata": {},
   "outputs": [],
   "source": [
    "# split data into train and development set\n",
    "from sklearn.model_selection import train_test_split\n",
    "x_train, x_dev, y_train, y_dev = train_test_split(train_csv.drop(columns='duration_label'), train_csv['duration_label'], test_size=0.25, random_state=3)"
   ]
  },
  {
   "cell_type": "markdown",
   "metadata": {},
   "source": [
    "## Multinomial Naive Bayes---Count Vectoriser (name+steps+ingredients)"
   ]
  },
  {
   "cell_type": "code",
   "execution_count": 6,
   "metadata": {},
   "outputs": [],
   "source": [
    "# combine the text of the recepie name, steps and ingredients\n",
    "train_text = x_train['name'] + \" \" + x_train['steps'] + \" \" + x_train['ingredients'] \n",
    "dev_text = x_dev['name'] + \" \" + x_dev['steps'] + \" \" + x_dev['ingredients'] "
   ]
  },
  {
   "cell_type": "code",
   "execution_count": 7,
   "metadata": {},
   "outputs": [],
   "source": [
    "# process the train text to count vectoriser\n",
    "from sklearn.feature_extraction.text import CountVectorizer \n",
    "cv = CountVectorizer(stop_words='english').fit(train_text) "
   ]
  },
  {
   "cell_type": "code",
   "execution_count": 8,
   "metadata": {},
   "outputs": [],
   "source": [
    "x_train_steps_cv = cv.transform(train_text)\n",
    "x_dev_steps_cv = cv.transform(dev_text)"
   ]
  },
  {
   "cell_type": "code",
   "execution_count": 9,
   "metadata": {},
   "outputs": [
    {
     "data": {
      "text/plain": [
       "(0.7538, 0.7213)"
      ]
     },
     "execution_count": 9,
     "metadata": {},
     "output_type": "execute_result"
    }
   ],
   "source": [
    "# train the model using multinomial naive bayes and test the accuracy of the train & development set \n",
    "from sklearn.naive_bayes import MultinomialNB\n",
    "mnb = MultinomialNB()\n",
    "mnb.fit(x_train_steps_cv, y_train)\n",
    "mnb.score(x_train_steps_cv, y_train), mnb.score(x_dev_steps_cv, y_dev)"
   ]
  },
  {
   "cell_type": "code",
   "execution_count": 10,
   "metadata": {},
   "outputs": [
    {
     "data": {
      "text/plain": [
       "0.7236"
      ]
     },
     "execution_count": 10,
     "metadata": {},
     "output_type": "execute_result"
    }
   ],
   "source": [
    "# use cross validation to check overfitting\n",
    "from sklearn.model_selection import cross_val_score\n",
    "cross_val_score(mnb, x_train_steps_cv, y_train).mean()"
   ]
  },
  {
   "cell_type": "markdown",
   "metadata": {},
   "source": [
    "By using the text of steps, ingredients and name combine together, we get a accuracy of 0.7213 for the development set. \n",
    "Try only use the text of steps(it have the most words hence we might get the most information form this feature), there is a slight imporvement. \n",
    "Then try add in the name feature, the accuracy have a further improvement compare to when we only use the steps."
   ]
  },
  {
   "cell_type": "markdown",
   "metadata": {},
   "source": [
    "## Multinomial Naive Bayes---Count Vectoriser (steps)"
   ]
  },
  {
   "cell_type": "code",
   "execution_count": 12,
   "metadata": {},
   "outputs": [
    {
     "data": {
      "text/plain": [
       "(0.7598666666666667, 0.7234)"
      ]
     },
     "execution_count": 12,
     "metadata": {},
     "output_type": "execute_result"
    }
   ],
   "source": [
    "train_text1 = x_train['steps'] \n",
    "dev_text1 = x_dev['steps'] \n",
    "cv1 = CountVectorizer(stop_words='english').fit(train_text1)\n",
    "x_train_steps_cv1 = cv.transform(train_text1)\n",
    "x_dev_steps_cv1 = cv.transform(dev_text1)\n",
    "mnb1 = MultinomialNB()\n",
    "mnb1.fit(x_train_steps_cv1, y_train)\n",
    "mnb1.score(x_train_steps_cv1, y_train), mnb.score(x_dev_steps_cv1, y_dev)"
   ]
  },
  {
   "cell_type": "code",
   "execution_count": 13,
   "metadata": {},
   "outputs": [
    {
     "data": {
      "text/plain": [
       "0.7295999999999999"
      ]
     },
     "execution_count": 13,
     "metadata": {},
     "output_type": "execute_result"
    }
   ],
   "source": [
    "cross_val_score(mnb, x_train_steps_cv1, y_train).mean()"
   ]
  },
  {
   "cell_type": "markdown",
   "metadata": {},
   "source": [
    "## Multinomial Naive Bayes---Count Vectoriser (name+steps)"
   ]
  },
  {
   "cell_type": "code",
   "execution_count": 14,
   "metadata": {},
   "outputs": [
    {
     "data": {
      "text/plain": [
       "(0.7692666666666667, 0.7247)"
      ]
     },
     "execution_count": 14,
     "metadata": {},
     "output_type": "execute_result"
    }
   ],
   "source": [
    "train_text2 = x_train['name'] + \" \" + x_train['steps'] \n",
    "dev_text2 = x_dev['name'] + \" \" + x_dev['steps'] \n",
    "cv2 = CountVectorizer(stop_words='english').fit(train_text2)\n",
    "x_train_steps_cv2 = cv.transform(train_text2)\n",
    "x_dev_steps_cv2 = cv.transform(dev_text2)\n",
    "mnb2 = MultinomialNB()\n",
    "mnb2.fit(x_train_steps_cv2, y_train)\n",
    "mnb2.score(x_train_steps_cv2, y_train), mnb.score(x_dev_steps_cv2, y_dev)"
   ]
  },
  {
   "cell_type": "code",
   "execution_count": 15,
   "metadata": {},
   "outputs": [
    {
     "data": {
      "text/plain": [
       "0.7353333333333334"
      ]
     },
     "execution_count": 15,
     "metadata": {},
     "output_type": "execute_result"
    }
   ],
   "source": [
    "cross_val_score(mnb, x_train_steps_cv2, y_train).mean()"
   ]
  },
  {
   "cell_type": "markdown",
   "metadata": {},
   "source": [
    "## Test on test set"
   ]
  },
  {
   "cell_type": "code",
   "execution_count": 16,
   "metadata": {},
   "outputs": [],
   "source": [
    "test_csv = pd.read_csv('recipe_test.csv')"
   ]
  },
  {
   "cell_type": "code",
   "execution_count": 17,
   "metadata": {},
   "outputs": [],
   "source": [
    "test_csv['steps'] = test_csv['steps'].apply(eval)\n",
    "test_csv['ingredients'] = test_csv['ingredients'].apply(eval)\n",
    "test_csv['steps'] = test_csv['steps'].apply(' '.join)\n",
    "test_csv['ingredients'] = test_csv['ingredients'].apply(' '.join)\n",
    "test_text = test_csv['name'] + \" \" + test_csv['steps'] + \" \" + test_csv['ingredients'] \n",
    "x_test_text_cv = cv.transform(test_text)"
   ]
  },
  {
   "cell_type": "code",
   "execution_count": 18,
   "metadata": {},
   "outputs": [
    {
     "data": {
      "text/plain": [
       "array([2., 1., 2., ..., 1., 1., 2.])"
      ]
     },
     "execution_count": 18,
     "metadata": {},
     "output_type": "execute_result"
    }
   ],
   "source": [
    "prediction = mnb.predict(x_test_text_cv)\n",
    "prediction"
   ]
  },
  {
   "cell_type": "code",
   "execution_count": 19,
   "metadata": {},
   "outputs": [
    {
     "data": {
      "text/html": [
       "<div>\n",
       "<style scoped>\n",
       "    .dataframe tbody tr th:only-of-type {\n",
       "        vertical-align: middle;\n",
       "    }\n",
       "\n",
       "    .dataframe tbody tr th {\n",
       "        vertical-align: top;\n",
       "    }\n",
       "\n",
       "    .dataframe thead th {\n",
       "        text-align: right;\n",
       "    }\n",
       "</style>\n",
       "<table border=\"1\" class=\"dataframe\">\n",
       "  <thead>\n",
       "    <tr style=\"text-align: right;\">\n",
       "      <th></th>\n",
       "      <th>id</th>\n",
       "      <th>duration_label</th>\n",
       "    </tr>\n",
       "  </thead>\n",
       "  <tbody>\n",
       "    <tr>\n",
       "      <th>0</th>\n",
       "      <td>1</td>\n",
       "      <td>2.0</td>\n",
       "    </tr>\n",
       "    <tr>\n",
       "      <th>1</th>\n",
       "      <td>2</td>\n",
       "      <td>1.0</td>\n",
       "    </tr>\n",
       "    <tr>\n",
       "      <th>2</th>\n",
       "      <td>3</td>\n",
       "      <td>2.0</td>\n",
       "    </tr>\n",
       "    <tr>\n",
       "      <th>3</th>\n",
       "      <td>4</td>\n",
       "      <td>1.0</td>\n",
       "    </tr>\n",
       "    <tr>\n",
       "      <th>4</th>\n",
       "      <td>5</td>\n",
       "      <td>2.0</td>\n",
       "    </tr>\n",
       "    <tr>\n",
       "      <th>...</th>\n",
       "      <td>...</td>\n",
       "      <td>...</td>\n",
       "    </tr>\n",
       "    <tr>\n",
       "      <th>9995</th>\n",
       "      <td>9996</td>\n",
       "      <td>2.0</td>\n",
       "    </tr>\n",
       "    <tr>\n",
       "      <th>9996</th>\n",
       "      <td>9997</td>\n",
       "      <td>2.0</td>\n",
       "    </tr>\n",
       "    <tr>\n",
       "      <th>9997</th>\n",
       "      <td>9998</td>\n",
       "      <td>1.0</td>\n",
       "    </tr>\n",
       "    <tr>\n",
       "      <th>9998</th>\n",
       "      <td>9999</td>\n",
       "      <td>1.0</td>\n",
       "    </tr>\n",
       "    <tr>\n",
       "      <th>9999</th>\n",
       "      <td>10000</td>\n",
       "      <td>2.0</td>\n",
       "    </tr>\n",
       "  </tbody>\n",
       "</table>\n",
       "<p>10000 rows × 2 columns</p>\n",
       "</div>"
      ],
      "text/plain": [
       "         id  duration_label\n",
       "0         1             2.0\n",
       "1         2             1.0\n",
       "2         3             2.0\n",
       "3         4             1.0\n",
       "4         5             2.0\n",
       "...     ...             ...\n",
       "9995   9996             2.0\n",
       "9996   9997             2.0\n",
       "9997   9998             1.0\n",
       "9998   9999             1.0\n",
       "9999  10000             2.0\n",
       "\n",
       "[10000 rows x 2 columns]"
      ]
     },
     "execution_count": 19,
     "metadata": {},
     "output_type": "execute_result"
    }
   ],
   "source": [
    "results = pd.DataFrame({'id': list(range(1,10001)), 'duration_label': list(prediction)}, columns=['id', 'duration_label'])\n",
    "results"
   ]
  },
  {
   "cell_type": "code",
   "execution_count": 20,
   "metadata": {},
   "outputs": [],
   "source": [
    "results.to_csv(\"results.csv\", index=False)"
   ]
  },
  {
   "cell_type": "markdown",
   "metadata": {},
   "source": [
    "## Multinomial Naive Bayes---tfidf"
   ]
  },
  {
   "cell_type": "code",
   "execution_count": 21,
   "metadata": {},
   "outputs": [],
   "source": [
    "from sklearn.feature_extraction.text import TfidfVectorizer\n",
    "tfidf = TfidfVectorizer(stop_words='english').fit(x_train['steps'])\n",
    "# train_text2 = name+steps\n",
    "x_train_steps_tfidf = tfidf.transform(train_text2)\n",
    "x_dev_steps_tfidf = tfidf.transform(dev_text2)"
   ]
  },
  {
   "cell_type": "code",
   "execution_count": 22,
   "metadata": {},
   "outputs": [
    {
     "data": {
      "text/plain": [
       "(0.733, 0.6994)"
      ]
     },
     "execution_count": 22,
     "metadata": {},
     "output_type": "execute_result"
    }
   ],
   "source": [
    "mnb3 = MultinomialNB()\n",
    "mnb3.fit(x_train_steps_tfidf, y_train)\n",
    "mnb3.score(x_train_steps_tfidf, y_train), mnb3.score(x_dev_steps_tfidf, y_dev)"
   ]
  },
  {
   "cell_type": "markdown",
   "metadata": {},
   "source": [
    "Hence, we can see that by using tfidf to get the weight of each word does not produce a better performance for multinomial NB which is resonable since "
   ]
  },
  {
   "cell_type": "markdown",
   "metadata": {},
   "source": [
    "## Confusion Matrix (Precision & Recall) for baseline model"
   ]
  },
  {
   "cell_type": "code",
   "execution_count": 23,
   "metadata": {},
   "outputs": [
    {
     "ename": "AttributeError",
     "evalue": "'function' object has no attribute 'sum'",
     "output_type": "error",
     "traceback": [
      "\u001b[1;31m---------------------------------------------------------------------------\u001b[0m",
      "\u001b[1;31mAttributeError\u001b[0m                            Traceback (most recent call last)",
      "\u001b[1;32m<ipython-input-23-a79ba646f11e>\u001b[0m in \u001b[0;36m<module>\u001b[1;34m\u001b[0m\n\u001b[0;32m      1\u001b[0m \u001b[1;32mfrom\u001b[0m \u001b[0msklearn\u001b[0m\u001b[1;33m.\u001b[0m\u001b[0mmetrics\u001b[0m \u001b[1;32mimport\u001b[0m \u001b[0mconfusion_matrix\u001b[0m\u001b[1;33m\u001b[0m\u001b[1;33m\u001b[0m\u001b[0m\n\u001b[1;32m----> 2\u001b[1;33m \u001b[0mFP\u001b[0m \u001b[1;33m=\u001b[0m \u001b[0mconfusion_matrix\u001b[0m\u001b[1;33m.\u001b[0m\u001b[0msum\u001b[0m\u001b[1;33m(\u001b[0m\u001b[0maxis\u001b[0m\u001b[1;33m=\u001b[0m\u001b[1;36m0\u001b[0m\u001b[1;33m)\u001b[0m \u001b[1;33m-\u001b[0m \u001b[0mnp\u001b[0m\u001b[1;33m.\u001b[0m\u001b[0mdiag\u001b[0m\u001b[1;33m(\u001b[0m\u001b[0mconfusion_matrix\u001b[0m\u001b[1;33m)\u001b[0m\u001b[1;33m\u001b[0m\u001b[1;33m\u001b[0m\u001b[0m\n\u001b[0m\u001b[0;32m      3\u001b[0m \u001b[0mFN\u001b[0m \u001b[1;33m=\u001b[0m \u001b[0mconfusion_matrix\u001b[0m\u001b[1;33m.\u001b[0m\u001b[0msum\u001b[0m\u001b[1;33m(\u001b[0m\u001b[0maxis\u001b[0m\u001b[1;33m=\u001b[0m\u001b[1;36m1\u001b[0m\u001b[1;33m)\u001b[0m \u001b[1;33m-\u001b[0m \u001b[0mnp\u001b[0m\u001b[1;33m.\u001b[0m\u001b[0mdiag\u001b[0m\u001b[1;33m(\u001b[0m\u001b[0mconfusion_matrix\u001b[0m\u001b[1;33m)\u001b[0m\u001b[1;33m\u001b[0m\u001b[1;33m\u001b[0m\u001b[0m\n\u001b[0;32m      4\u001b[0m \u001b[0mTP\u001b[0m \u001b[1;33m=\u001b[0m \u001b[0mnp\u001b[0m\u001b[1;33m.\u001b[0m\u001b[0mdiag\u001b[0m\u001b[1;33m(\u001b[0m\u001b[0mconfusion_matrix\u001b[0m\u001b[1;33m)\u001b[0m\u001b[1;33m\u001b[0m\u001b[1;33m\u001b[0m\u001b[0m\n\u001b[0;32m      5\u001b[0m \u001b[0mTN\u001b[0m \u001b[1;33m=\u001b[0m \u001b[0mconfusion_matrix\u001b[0m\u001b[1;33m.\u001b[0m\u001b[0mvalues\u001b[0m\u001b[1;33m.\u001b[0m\u001b[0msum\u001b[0m\u001b[1;33m(\u001b[0m\u001b[1;33m)\u001b[0m \u001b[1;33m-\u001b[0m \u001b[1;33m(\u001b[0m\u001b[0mFP\u001b[0m \u001b[1;33m+\u001b[0m \u001b[0mFN\u001b[0m \u001b[1;33m+\u001b[0m \u001b[0mTP\u001b[0m\u001b[1;33m)\u001b[0m\u001b[1;33m\u001b[0m\u001b[1;33m\u001b[0m\u001b[0m\n",
      "\u001b[1;31mAttributeError\u001b[0m: 'function' object has no attribute 'sum'"
     ]
    }
   ],
   "source": [
    "from sklearn.metrics import confusion_matrix\n",
    "FP = confusion_matrix.sum(axis=0) - np.diag(confusion_matrix)  \n",
    "FN = confusion_matrix.sum(axis=1) - np.diag(confusion_matrix)\n",
    "TP = np.diag(confusion_matrix)\n",
    "TN = confusion_matrix.values.sum() - (FP + FN + TP)"
   ]
  },
  {
   "cell_type": "code",
   "execution_count": 24,
   "metadata": {},
   "outputs": [
    {
     "data": {
      "text/plain": [
       "array([[3169, 1204,  104],\n",
       "       [1053, 3864,  109],\n",
       "       [  86,   89,  322]], dtype=int64)"
      ]
     },
     "execution_count": 24,
     "metadata": {},
     "output_type": "execute_result"
    }
   ],
   "source": [
    "# Confusion Matrix\n",
    "from sklearn.metrics import confusion_matrix\n",
    "mnb_pred = mnb2.predict(x_dev_steps_cv2)\n",
    "cm = confusion_matrix(y_dev, mnb_pred)\n",
    "cm"
   ]
  },
  {
   "cell_type": "code",
   "execution_count": 25,
   "metadata": {},
   "outputs": [
    {
     "data": {
      "text/plain": [
       "(array([0.73560817, 0.74927283, 0.60186916]),\n",
       " array([0.70784007, 0.76880223, 0.64788732]))"
      ]
     },
     "execution_count": 25,
     "metadata": {},
     "output_type": "execute_result"
    }
   ],
   "source": [
    "# precision & recall for base model\n",
    "recall = np.diag(cm) / np.sum(cm, axis = 1)\n",
    "precision = np.diag(cm) / np.sum(cm, axis = 0)\n",
    "precision,recall"
   ]
  },
  {
   "cell_type": "code",
   "execution_count": 26,
   "metadata": {},
   "outputs": [
    {
     "data": {
      "text/plain": [
       "(array([3169, 3864,  322], dtype=int64),\n",
       " array([1139, 1293,  213], dtype=int64),\n",
       " array([1308, 1162,  175], dtype=int64))"
      ]
     },
     "execution_count": 26,
     "metadata": {},
     "output_type": "execute_result"
    }
   ],
   "source": [
    "TP = np.diag(cm)\n",
    "FP = np.sum(cm, axis=0) - TP \n",
    "FN = np.sum(cm, axis=1) - TP\n",
    "TP, FP, FN"
   ]
  },
  {
   "cell_type": "code",
   "execution_count": 27,
   "metadata": {},
   "outputs": [
    {
     "data": {
      "text/plain": [
       "(array([0.73560817, 0.74927283, 0.60186916]),\n",
       " array([0.70784007, 0.76880223, 0.64788732]))"
      ]
     },
     "execution_count": 27,
     "metadata": {},
     "output_type": "execute_result"
    }
   ],
   "source": [
    "precision = TP/(TP+FP)\n",
    "recall = TP/(TP+FN)\n",
    "precision,recall"
   ]
  },
  {
   "cell_type": "markdown",
   "metadata": {},
   "source": [
    "## Linear SVC---CV"
   ]
  },
  {
   "cell_type": "code",
   "execution_count": 28,
   "metadata": {},
   "outputs": [],
   "source": [
    "from sklearn.svm import LinearSVC\n",
    "from sklearn.linear_model import LogisticRegression, SGDClassifier"
   ]
  },
  {
   "cell_type": "code",
   "execution_count": 63,
   "metadata": {},
   "outputs": [
    {
     "name": "stderr",
     "output_type": "stream",
     "text": [
      "C:\\Users\\chloe\\anaconda3\\lib\\site-packages\\sklearn\\svm\\_base.py:976: ConvergenceWarning: Liblinear failed to converge, increase the number of iterations.\n",
      "  warnings.warn(\"Liblinear failed to converge, increase \"\n"
     ]
    },
    {
     "data": {
      "text/plain": [
       "(0.9463666666666667, 0.7413)"
      ]
     },
     "execution_count": 63,
     "metadata": {},
     "output_type": "execute_result"
    }
   ],
   "source": [
    "svc = LinearSVC().fit(x_train_steps_cv2, y_train)\n",
    "svc.score(x_train_steps_cv2, y_train), svc.score(x_dev_steps_cv, y_dev)"
   ]
  },
  {
   "cell_type": "markdown",
   "metadata": {},
   "source": [
    "## Linear SVC---tfidf"
   ]
  },
  {
   "cell_type": "code",
   "execution_count": 64,
   "metadata": {},
   "outputs": [
    {
     "data": {
      "text/plain": [
       "(0.8772, 0.7828)"
      ]
     },
     "execution_count": 64,
     "metadata": {},
     "output_type": "execute_result"
    }
   ],
   "source": [
    "svc_tfidf = LinearSVC().fit(x_train_steps_tfidf, y_train)\n",
    "svc_tfidf.score(x_train_steps_tfidf, y_train), svc_tfidf.score(x_dev_steps_tfidf, y_dev)"
   ]
  },
  {
   "cell_type": "markdown",
   "metadata": {},
   "source": [
    "## Logistic Regression---CV"
   ]
  },
  {
   "cell_type": "code",
   "execution_count": 33,
   "metadata": {},
   "outputs": [
    {
     "data": {
      "text/plain": [
       "(0.9208, 0.7639)"
      ]
     },
     "execution_count": 33,
     "metadata": {},
     "output_type": "execute_result"
    }
   ],
   "source": [
    "lr = LogisticRegression(max_iter=1000).fit(x_train_steps_cv2, y_train)\n",
    "lr.score(x_train_steps_cv2, y_train), lr.score(x_dev_steps_cv, y_dev)"
   ]
  },
  {
   "cell_type": "markdown",
   "metadata": {},
   "source": [
    "## Logistic Regression---tfidf"
   ]
  },
  {
   "cell_type": "code",
   "execution_count": 34,
   "metadata": {},
   "outputs": [
    {
     "data": {
      "text/plain": [
       "(0.8356333333333333, 0.7876)"
      ]
     },
     "execution_count": 34,
     "metadata": {},
     "output_type": "execute_result"
    }
   ],
   "source": [
    "lr = LogisticRegression(max_iter=1000).fit(x_train_steps_tfidf, y_train)\n",
    "lr.score(x_train_steps_tfidf, y_train), lr.score(x_dev_steps_tfidf, y_dev)"
   ]
  },
  {
   "cell_type": "markdown",
   "metadata": {},
   "source": [
    "## Grid Search use SDG"
   ]
  },
  {
   "cell_type": "code",
   "execution_count": 36,
   "metadata": {},
   "outputs": [],
   "source": [
    "from sklearn.feature_selection import SelectKBest\n",
    "from sklearn.feature_selection import chi2, mutual_info_classif, f_classif"
   ]
  },
  {
   "cell_type": "code",
   "execution_count": 37,
   "metadata": {},
   "outputs": [],
   "source": [
    "from sklearn.pipeline import Pipeline\n",
    "from sklearn.model_selection import GridSearchCV"
   ]
  },
  {
   "cell_type": "code",
   "execution_count": 38,
   "metadata": {},
   "outputs": [],
   "source": [
    "pipeline = Pipeline(\n",
    "    [\n",
    "        ('kbest', SelectKBest()), ('clf', SGDClassifier(random_state=2))\n",
    "    ]\n",
    ")\n",
    "parameters = {\n",
    "    'kbest__score_func': (f_classif, chi2),\n",
    "    'kbest__k': (1000, 5000, 10000, 'all'),\n",
    "    'clf__loss': ('hinge', 'log'),\n",
    "    'clf__alpha': (1e-5, 1e-4, 1e-3, 1e-2),\n",
    "}"
   ]
  },
  {
   "cell_type": "code",
   "execution_count": 39,
   "metadata": {},
   "outputs": [],
   "source": [
    "def grid_search(pipeline, parameters, X, y):\n",
    "    gs = GridSearchCV(pipeline, parameters, cv=5, n_jobs=-1, verbose=1)\n",
    "    gs.fit(X, y)\n",
    "    \n",
    "    mean_score = gs.cv_results_['mean_test_score']\n",
    "    param_set = gs.cv_results_['params']\n",
    "    for idx in mean_score.argsort()[-5:]:\n",
    "        print(param_set[idx])\n",
    "        print(gs.cv_results_['mean_test_score'][idx])\n",
    "    \n",
    "    return gs"
   ]
  },
  {
   "cell_type": "code",
   "execution_count": 40,
   "metadata": {
    "scrolled": true
   },
   "outputs": [
    {
     "name": "stdout",
     "output_type": "stream",
     "text": [
      "Fitting 5 folds for each of 64 candidates, totalling 320 fits\n"
     ]
    },
    {
     "name": "stderr",
     "output_type": "stream",
     "text": [
      "[Parallel(n_jobs=-1)]: Using backend LokyBackend with 8 concurrent workers.\n",
      "[Parallel(n_jobs=-1)]: Done  34 tasks      | elapsed:    6.2s\n",
      "[Parallel(n_jobs=-1)]: Done 184 tasks      | elapsed:   15.9s\n",
      "[Parallel(n_jobs=-1)]: Done 320 out of 320 | elapsed:   22.4s finished\n"
     ]
    },
    {
     "name": "stdout",
     "output_type": "stream",
     "text": [
      "{'clf__alpha': 0.0001, 'clf__loss': 'hinge', 'kbest__k': 5000, 'kbest__score_func': <function chi2 at 0x0000022215AF0700>}\n",
      "0.7865\n",
      "{'clf__alpha': 0.0001, 'clf__loss': 'hinge', 'kbest__k': 5000, 'kbest__score_func': <function f_classif at 0x0000022215AF03A0>}\n",
      "0.7869333333333334\n",
      "{'clf__alpha': 0.0001, 'clf__loss': 'hinge', 'kbest__k': 10000, 'kbest__score_func': <function chi2 at 0x0000022215AF0700>}\n",
      "0.7874\n",
      "{'clf__alpha': 0.0001, 'clf__loss': 'hinge', 'kbest__k': 'all', 'kbest__score_func': <function f_classif at 0x0000022215AF03A0>}\n",
      "0.7881\n",
      "{'clf__alpha': 0.0001, 'clf__loss': 'hinge', 'kbest__k': 'all', 'kbest__score_func': <function chi2 at 0x0000022215AF0700>}\n",
      "0.7881\n"
     ]
    }
   ],
   "source": [
    "result = grid_search(pipeline, parameters, x_train_steps_tfidf, y_train)"
   ]
  },
  {
   "cell_type": "markdown",
   "metadata": {},
   "source": [
    "From the result of the SDG classifier, we can see that the models with the top performance all have a alpha of 0.0001 and hinge loss. The score function does not make a much difference."
   ]
  },
  {
   "cell_type": "markdown",
   "metadata": {},
   "source": [
    "## Grid Search Only on SVC"
   ]
  },
  {
   "cell_type": "code",
   "execution_count": 41,
   "metadata": {},
   "outputs": [
    {
     "name": "stdout",
     "output_type": "stream",
     "text": [
      "Fitting 5 folds for each of 25 candidates, totalling 125 fits\n"
     ]
    },
    {
     "name": "stderr",
     "output_type": "stream",
     "text": [
      "[Parallel(n_jobs=-1)]: Using backend LokyBackend with 8 concurrent workers.\n",
      "[Parallel(n_jobs=-1)]: Done  34 tasks      | elapsed:    3.4s\n",
      "[Parallel(n_jobs=-1)]: Done 125 out of 125 | elapsed:   16.1s finished\n"
     ]
    },
    {
     "name": "stdout",
     "output_type": "stream",
     "text": [
      "{'clf__C': 0.3, 'kbest__k': 10000}\n",
      "0.7858333333333333\n",
      "{'clf__C': 0.3, 'kbest__k': 4000}\n",
      "0.7868000000000002\n",
      "{'clf__C': 0.3, 'kbest__k': 'all'}\n",
      "0.7869666666666666\n",
      "{'clf__C': 0.3, 'kbest__k': 6000}\n",
      "0.7872666666666668\n",
      "{'clf__C': 0.3, 'kbest__k': 8000}\n",
      "0.7875\n"
     ]
    }
   ],
   "source": [
    "pipeline = Pipeline([('kbest', SelectKBest()), ('clf', LinearSVC(max_iter=1000))])\n",
    "parameters = {\n",
    "    'kbest__k': (4000, 6000, 8000, 10000, 'all'),\n",
    "    'clf__C': (0.1, 0.3, 0.5, 0.7, 1),\n",
    "}\n",
    "gs = grid_search(pipeline, parameters, x_train_steps_tfidf, y_train)"
   ]
  },
  {
   "cell_type": "code",
   "execution_count": 42,
   "metadata": {},
   "outputs": [
    {
     "data": {
      "text/plain": [
       "Text(0.5, 15.0, 'kbest__k')"
      ]
     },
     "execution_count": 42,
     "metadata": {},
     "output_type": "execute_result"
    },
    {
     "data": {
      "image/png": "[encoded data removed]",
      "text/plain": [
       "<Figure size 432x288 with 2 Axes>"
      ]
     },
     "metadata": {
      "needs_background": "light"
     },
     "output_type": "display_data"
    }
   ],
   "source": [
    "import seaborn as sns\n",
    "scores = gs.cv_results_['mean_test_score'].reshape((5,5))\n",
    "ax = plt.axes()\n",
    "sns.heatmap(scores, xticklabels=parameters['kbest__k'], yticklabels=parameters['clf__C'], cmap='Greens')\n",
    "ax.set_title('Accuracy score when varie k and C')\n",
    "ax.set_ylabel('clf__C')    \n",
    "ax.set_xlabel('kbest__k')"
   ]
  },
  {
   "cell_type": "markdown",
   "metadata": {},
   "source": [
    "## Ensembel Model"
   ]
  },
  {
   "cell_type": "markdown",
   "metadata": {},
   "source": [
    "### 1.max voting"
   ]
  },
  {
   "cell_type": "code",
   "execution_count": 45,
   "metadata": {},
   "outputs": [
    {
     "data": {
      "text/plain": [
       "(0.8013, 0.7822)"
      ]
     },
     "execution_count": 45,
     "metadata": {},
     "output_type": "execute_result"
    }
   ],
   "source": [
    "# SGDClassifier\n",
    "sgd = SGDClassifier(loss='log', max_iter=1000).fit(x_train_steps_tfidf, y_train)\n",
    "sgd.score(x_train_steps_tfidf, y_train), sgd.score(x_dev_steps_tfidf, y_dev)"
   ]
  },
  {
   "cell_type": "code",
   "execution_count": 46,
   "metadata": {},
   "outputs": [
    {
     "data": {
      "text/plain": [
       "0.7882"
      ]
     },
     "execution_count": 46,
     "metadata": {},
     "output_type": "execute_result"
    }
   ],
   "source": [
    "from sklearn.metrics import accuracy_score\n",
    "from sklearn.metrics import accuracy_score\n",
    "from sklearn.linear_model import SGDClassifier\n",
    "from statistics import mode\n",
    "\n",
    "pred1=svc_tfidf.predict(x_dev_steps_tfidf)\n",
    "pred2=lr.predict(x_dev_steps_tfidf)\n",
    "pred3=sgd.predict(x_dev_steps_tfidf)\n",
    "\n",
    "final_pred = np.array([])\n",
    "for i in range(0,len(x_dev)):\n",
    "    final_pred = np.append(final_pred, mode([pred1[i], pred2[i], pred3[i]]))\n",
    "    \n",
    "accuracy_train = accuracy_score(y_dev,final_pred)\n",
    "accuracy_train"
   ]
  },
  {
   "cell_type": "markdown",
   "metadata": {},
   "source": [
    "### test on the test set use max voting"
   ]
  },
  {
   "cell_type": "code",
   "execution_count": 47,
   "metadata": {},
   "outputs": [],
   "source": [
    "test_text = test_csv['name'] + \" \" + test_csv['steps']\n",
    "x_test_steps_tfidf = tfidf.transform(test_text)\n",
    "\n",
    "pred1_test=svc_tfidf.predict(x_test_steps_tfidf)\n",
    "pred2_test=lr.predict(x_test_steps_tfidf)\n",
    "pred3_test=sgd.predict(x_test_steps_tfidf)\n",
    "\n",
    "prediction2 = np.array([])\n",
    "for i in range(0,len(test_text)):\n",
    "    prediction2 = np.append(prediction2, mode([pred1_test[i], pred2_test[i], pred3_test[i]]))\n",
    "    \n",
    "results2 = pd.DataFrame({'id': list(range(1,10001)), 'duration_label': list(prediction2)}, columns=['id', 'duration_label'])\n",
    "results2.to_csv(\"results2.csv\", index=False)"
   ]
  },
  {
   "cell_type": "markdown",
   "metadata": {},
   "source": [
    "Result = 0.80166"
   ]
  },
  {
   "cell_type": "markdown",
   "metadata": {},
   "source": [
    "### 2.Random Forest"
   ]
  },
  {
   "cell_type": "code",
   "execution_count": 48,
   "metadata": {},
   "outputs": [
    {
     "data": {
      "text/plain": [
       "[0.7348,\n",
       " 0.7328,\n",
       " 0.7317,\n",
       " 0.7333,\n",
       " 0.738,\n",
       " 0.7432,\n",
       " 0.7378,\n",
       " 0.7483,\n",
       " 0.7495,\n",
       " 0.7461,\n",
       " 0.7547]"
      ]
     },
     "execution_count": 48,
     "metadata": {},
     "output_type": "execute_result"
    }
   ],
   "source": [
    "from sklearn.ensemble import RandomForestClassifier\n",
    "accuracy_train_list = []\n",
    "for i in range(10,21):\n",
    "    rf = RandomForestClassifier(max_depth=i)\n",
    "\n",
    "    # fit the model with the training data\n",
    "    rf.fit(x_train_steps_tfidf, y_train)\n",
    "\n",
    "    # predict the target on the train dataset\n",
    "    predict_train = rf.predict(x_dev_steps_tfidf)\n",
    "\n",
    "    # Accuray Score on train dataset\n",
    "    accuracy_train = accuracy_score(y_dev,predict_train)\n",
    "    accuracy_train_list.append(accuracy_train)\n",
    "accuracy_train_list"
   ]
  },
  {
   "cell_type": "markdown",
   "metadata": {},
   "source": [
    "From the result we can see that the accuracy increase as the max depth of the tree increase."
   ]
  },
  {
   "cell_type": "code",
   "execution_count": 50,
   "metadata": {},
   "outputs": [
    {
     "data": {
      "text/plain": [
       "0.7799"
      ]
     },
     "execution_count": 50,
     "metadata": {},
     "output_type": "execute_result"
    }
   ],
   "source": [
    "rf = RandomForestClassifier(n_estimators=1000, max_depth=40)\n",
    "\n",
    "# fit the model with the training data\n",
    "rf.fit(x_train_steps_tfidf, y_train)\n",
    "\n",
    "# predict the target on the train dataset\n",
    "predict_train = rf.predict(x_dev_steps_tfidf)\n",
    "\n",
    "# Accuray Score on train dataset\n",
    "accuracy_train = accuracy_score(y_dev,predict_train)\n",
    "accuracy_train"
   ]
  },
  {
   "cell_type": "markdown",
   "metadata": {},
   "source": [
    "max_depth=40, n_estimators=100: 0.77\n",
    "max_depth=40, n_estimators=200: 0.7776\n",
    "max_depth=100, n_estimators=100: 0.778"
   ]
  },
  {
   "cell_type": "markdown",
   "metadata": {},
   "source": [
    "varie the max depth or the number of trees can improve the accuracy but does not lead to a large change where it increases the complexity of the model."
   ]
  },
  {
   "cell_type": "markdown",
   "metadata": {},
   "source": [
    "## Test on testing set using Logistic Reg"
   ]
  },
  {
   "cell_type": "code",
   "execution_count": 51,
   "metadata": {},
   "outputs": [],
   "source": [
    "prediction_lr = lr.predict(x_test_steps_tfidf)\n",
    "results_lr = pd.DataFrame({'id': list(range(1,10001)), 'duration_label': list(prediction_lr)}, columns=['id', 'duration_label'])\n",
    "results_lr.to_csv(\"results_lr.csv\", index=False)"
   ]
  },
  {
   "cell_type": "markdown",
   "metadata": {},
   "source": [
    "result = 0.80033"
   ]
  },
  {
   "cell_type": "markdown",
   "metadata": {},
   "source": [
    "## Test on testing set with the tuned params using SVC"
   ]
  },
  {
   "cell_type": "code",
   "execution_count": 52,
   "metadata": {},
   "outputs": [],
   "source": [
    "tuned_svc = LinearSVC(C=0.3, max_iter=8000).fit(x_train_steps_tfidf, y_train)\n",
    "prediction_svc = tuned_svc.predict(x_test_steps_tfidf)\n",
    "results_svc = pd.DataFrame({'id': list(range(1,10001)), 'duration_label': list(prediction_svc)}, columns=['id', 'duration_label'])\n",
    "results_svc.to_csv(\"results_svc.csv\", index=False)"
   ]
  },
  {
   "cell_type": "markdown",
   "metadata": {},
   "source": [
    "Result = 0.79666"
   ]
  },
  {
   "cell_type": "markdown",
   "metadata": {},
   "source": [
    "## Confusion Matrix (Precision & Recall)"
   ]
  },
  {
   "cell_type": "code",
   "execution_count": 53,
   "metadata": {},
   "outputs": [
    {
     "data": {
      "text/plain": [
       "array([[3528,  902,   47],\n",
       "       [ 937, 4054,   35],\n",
       "       [  94,  109,  294]], dtype=int64)"
      ]
     },
     "execution_count": 53,
     "metadata": {},
     "output_type": "execute_result"
    }
   ],
   "source": [
    "# cm for log reg\n",
    "lr_pred = lr.predict(x_dev_steps_tfidf)\n",
    "cm2 = confusion_matrix(y_dev, lr_pred)\n",
    "cm2"
   ]
  },
  {
   "cell_type": "code",
   "execution_count": 54,
   "metadata": {},
   "outputs": [
    {
     "data": {
      "text/plain": [
       "(array([0.77385392, 0.80039487, 0.78191489]),\n",
       " array([0.7880277 , 0.80660565, 0.5915493 ]))"
      ]
     },
     "execution_count": 54,
     "metadata": {},
     "output_type": "execute_result"
    }
   ],
   "source": [
    "recall2 = np.diag(cm2) / np.sum(cm2, axis = 1)\n",
    "precision2 = np.diag(cm2) / np.sum(cm2, axis = 0)\n",
    "precision2, recall2"
   ]
  },
  {
   "cell_type": "code",
   "execution_count": 55,
   "metadata": {},
   "outputs": [
    {
     "data": {
      "text/plain": [
       "array([[3548,  896,   33],\n",
       "       [ 963, 4035,   28],\n",
       "       [  93,  108,  296]], dtype=int64)"
      ]
     },
     "execution_count": 55,
     "metadata": {},
     "output_type": "execute_result"
    }
   ],
   "source": [
    "# cm for tuned svc \n",
    "tuned_svc_pred = tuned_svc.predict(x_dev_steps_tfidf)\n",
    "cm3 = confusion_matrix(y_dev, tuned_svc_pred)\n",
    "cm3"
   ]
  },
  {
   "cell_type": "code",
   "execution_count": 56,
   "metadata": {},
   "outputs": [
    {
     "data": {
      "text/plain": [
       "(array([0.77063423, 0.80075412, 0.82913165]),\n",
       " array([0.79249497, 0.80282531, 0.59557344]))"
      ]
     },
     "execution_count": 56,
     "metadata": {},
     "output_type": "execute_result"
    }
   ],
   "source": [
    "recall3 = np.diag(cm3) / np.sum(cm3, axis = 1)\n",
    "precision3 = np.diag(cm3) / np.sum(cm3, axis = 0)\n",
    "precision3, recall3"
   ]
  },
  {
   "cell_type": "code",
   "execution_count": 57,
   "metadata": {},
   "outputs": [],
   "source": [
    "# cm for tuned ensemble model \n",
    "pred1_dev=svc_tfidf.predict(x_dev_steps_tfidf)\n",
    "pred2_dev=lr.predict(x_dev_steps_tfidf)\n",
    "pred3_dev=sgd.predict(x_dev_steps_tfidf)"
   ]
  },
  {
   "cell_type": "code",
   "execution_count": 58,
   "metadata": {},
   "outputs": [
    {
     "data": {
      "text/plain": [
       "array([[3539,  904,   34],\n",
       "       [ 939, 4055,   32],\n",
       "       [  95,  114,  288]], dtype=int64)"
      ]
     },
     "execution_count": 58,
     "metadata": {},
     "output_type": "execute_result"
    }
   ],
   "source": [
    "prediction_dev = np.array([])\n",
    "for i in range(0,len(dev_text2)):\n",
    "    prediction_dev = np.append(prediction_dev, mode([pred1_dev[i], pred2_dev[i], pred3_dev[i]]))\n",
    "cm4 = confusion_matrix(y_dev, prediction_dev)\n",
    "cm4"
   ]
  },
  {
   "cell_type": "code",
   "execution_count": 59,
   "metadata": {},
   "outputs": [
    {
     "data": {
      "text/plain": [
       "(array([0.77389023, 0.79932979, 0.81355932]),\n",
       " array([0.7904847 , 0.80680462, 0.57947686]))"
      ]
     },
     "execution_count": 59,
     "metadata": {},
     "output_type": "execute_result"
    }
   ],
   "source": [
    "recall4 = np.diag(cm4) / np.sum(cm4, axis = 1)\n",
    "precision4 = np.diag(cm4) / np.sum(cm4, axis = 0)\n",
    "precision4, recall4"
   ]
  },
  {
   "cell_type": "markdown",
   "metadata": {},
   "source": [
    "Generating Personalized Recipes from Historical User Preferences. Bodhisattwa Prasad Majumder, Shuyang Li,  Jianmo Ni,  Julian McAuley,  in Proceedings of the 2019 Conference on Empirical Methods in Natural Language Processing and the 9th International Joint Conference on Natural Language Processing (EMNLP-IJCNLP), 2019. "
   ]
  }
 ],
 "metadata": {
  "kernelspec": {
   "display_name": "Python 3",
   "language": "python",
   "name": "python3"
  },
  "language_info": {
   "codemirror_mode": {
    "name": "ipython",
    "version": 3
   },
   "file_extension": ".py",
   "mimetype": "text/x-python",
   "name": "python",
   "nbconvert_exporter": "python",
   "pygments_lexer": "ipython3",
   "version": "3.8.5"
  }
 },
 "nbformat": 4,
 "nbformat_minor": 4
}
